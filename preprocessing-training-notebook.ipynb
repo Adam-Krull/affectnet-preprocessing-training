{
 "cells": [
  {
   "cell_type": "code",
   "execution_count": null,
   "metadata": {
    "scrolled": true
   },
   "outputs": [],
   "source": [
    "!pip install opencv-python"
   ]
  },
  {
   "cell_type": "code",
   "execution_count": 1,
   "metadata": {},
   "outputs": [],
   "source": [
    "#Importing relevant libraries\n",
    "import os\n",
    "import cv2\n",
    "import numpy as np\n",
    "import pandas as pd\n",
    "import csv"
   ]
  },
  {
   "cell_type": "code",
   "execution_count": 2,
   "metadata": {},
   "outputs": [],
   "source": [
    "#Establishing filepaths and variables for later use\n",
    "csv_file='automatically_annotated.csv'\n",
    "base='/home/ubuntu/AffectNet/Automatically_Annotated'\n",
    "output_dir='/home/ubuntu/AffectNet/AffectNet'\n",
    "\n",
    "#Establishing empty lists and the desired size of our final images\n",
    "input_size = (48, 48)\n",
    "fname = []\n",
    "face_x = []\n",
    "face_y = []\n",
    "width = []\n",
    "height = []\n",
    "expression = []\n",
    "\n"
   ]
  },
  {
   "cell_type": "code",
   "execution_count": 3,
   "metadata": {},
   "outputs": [
    {
     "name": "stdout",
     "output_type": "stream",
     "text": [
      "539607\n"
     ]
    }
   ],
   "source": [
    "#Reading in the csv and verifying it worked\n",
    "table = pd.read_csv(csv_file, sep=',')\n",
    "table.head()\n",
    "print(len(table))"
   ]
  },
  {
   "cell_type": "code",
   "execution_count": 5,
   "metadata": {},
   "outputs": [
    {
     "data": {
      "text/html": [
       "<div>\n",
       "<style scoped>\n",
       "    .dataframe tbody tr th:only-of-type {\n",
       "        vertical-align: middle;\n",
       "    }\n",
       "\n",
       "    .dataframe tbody tr th {\n",
       "        vertical-align: top;\n",
       "    }\n",
       "\n",
       "    .dataframe thead th {\n",
       "        text-align: right;\n",
       "    }\n",
       "</style>\n",
       "<table border=\"1\" class=\"dataframe\">\n",
       "  <thead>\n",
       "    <tr style=\"text-align: right;\">\n",
       "      <th></th>\n",
       "      <th>subDirectory_filePath</th>\n",
       "      <th>face_x</th>\n",
       "      <th>face_y</th>\n",
       "      <th>face_width</th>\n",
       "      <th>face_height</th>\n",
       "      <th>expression</th>\n",
       "    </tr>\n",
       "  </thead>\n",
       "  <tbody>\n",
       "    <tr>\n",
       "      <th>0</th>\n",
       "      <td>324/27e086ee2eabdde2a009ce6d653862fd7d25097db9...</td>\n",
       "      <td>9</td>\n",
       "      <td>9</td>\n",
       "      <td>195</td>\n",
       "      <td>195</td>\n",
       "      <td>1</td>\n",
       "    </tr>\n",
       "    <tr>\n",
       "      <th>1</th>\n",
       "      <td>213/b7a2d66132c29a1ce5096a5e1be2a19f0e78f89e8c...</td>\n",
       "      <td>48</td>\n",
       "      <td>48</td>\n",
       "      <td>325</td>\n",
       "      <td>325</td>\n",
       "      <td>0</td>\n",
       "    </tr>\n",
       "    <tr>\n",
       "      <th>2</th>\n",
       "      <td>292/1e07c59017e7560116db9f359a03ec7a1bd1d71051...</td>\n",
       "      <td>106</td>\n",
       "      <td>106</td>\n",
       "      <td>709</td>\n",
       "      <td>709</td>\n",
       "      <td>1</td>\n",
       "    </tr>\n",
       "    <tr>\n",
       "      <th>3</th>\n",
       "      <td>1453/e7bf4ba69a82b8de5d6f37604fb35272b4d3e4eff...</td>\n",
       "      <td>15</td>\n",
       "      <td>15</td>\n",
       "      <td>210</td>\n",
       "      <td>210</td>\n",
       "      <td>2</td>\n",
       "    </tr>\n",
       "    <tr>\n",
       "      <th>4</th>\n",
       "      <td>1078/3b3277db30720c3621427a38567ba2ad6267c3a59...</td>\n",
       "      <td>23</td>\n",
       "      <td>23</td>\n",
       "      <td>157</td>\n",
       "      <td>157</td>\n",
       "      <td>1</td>\n",
       "    </tr>\n",
       "  </tbody>\n",
       "</table>\n",
       "</div>"
      ],
      "text/plain": [
       "                               subDirectory_filePath  face_x  face_y  \\\n",
       "0  324/27e086ee2eabdde2a009ce6d653862fd7d25097db9...       9       9   \n",
       "1  213/b7a2d66132c29a1ce5096a5e1be2a19f0e78f89e8c...      48      48   \n",
       "2  292/1e07c59017e7560116db9f359a03ec7a1bd1d71051...     106     106   \n",
       "3  1453/e7bf4ba69a82b8de5d6f37604fb35272b4d3e4eff...      15      15   \n",
       "4  1078/3b3277db30720c3621427a38567ba2ad6267c3a59...      23      23   \n",
       "\n",
       "   face_width  face_height  expression  \n",
       "0         195          195           1  \n",
       "1         325          325           0  \n",
       "2         709          709           1  \n",
       "3         210          210           2  \n",
       "4         157          157           1  "
      ]
     },
     "execution_count": 5,
     "metadata": {},
     "output_type": "execute_result"
    }
   ],
   "source": [
    "#Dropping columns from the dataframe that we don't need\n",
    "table = table.drop(labels=[\"facial_landmarks\", \"valence\", \"arousal\"], axis=1)\n",
    "\n",
    "table.head()"
   ]
  },
  {
   "cell_type": "code",
   "execution_count": 6,
   "metadata": {},
   "outputs": [
    {
     "data": {
      "text/html": [
       "<div>\n",
       "<style scoped>\n",
       "    .dataframe tbody tr th:only-of-type {\n",
       "        vertical-align: middle;\n",
       "    }\n",
       "\n",
       "    .dataframe tbody tr th {\n",
       "        vertical-align: top;\n",
       "    }\n",
       "\n",
       "    .dataframe thead th {\n",
       "        text-align: right;\n",
       "    }\n",
       "</style>\n",
       "<table border=\"1\" class=\"dataframe\">\n",
       "  <thead>\n",
       "    <tr style=\"text-align: right;\">\n",
       "      <th></th>\n",
       "      <th>subDirectory_filePath</th>\n",
       "      <th>face_x</th>\n",
       "      <th>face_y</th>\n",
       "      <th>face_width</th>\n",
       "      <th>face_height</th>\n",
       "      <th>expression</th>\n",
       "    </tr>\n",
       "  </thead>\n",
       "  <tbody>\n",
       "    <tr>\n",
       "      <th>539606</th>\n",
       "      <td>1408/4f7253e6833a6f9d782e29587eddec4876aed7490...</td>\n",
       "      <td>37</td>\n",
       "      <td>37</td>\n",
       "      <td>253</td>\n",
       "      <td>253</td>\n",
       "      <td>0</td>\n",
       "    </tr>\n",
       "    <tr>\n",
       "      <th>321576</th>\n",
       "      <td>108/f40a5a727f960d7083b5a8ac706f6bec5af014dd82...</td>\n",
       "      <td>179</td>\n",
       "      <td>179</td>\n",
       "      <td>1904</td>\n",
       "      <td>1904</td>\n",
       "      <td>0</td>\n",
       "    </tr>\n",
       "    <tr>\n",
       "      <th>423083</th>\n",
       "      <td>1117/19feb7fb51e8768dffbc028e9540e235f828fd10c...</td>\n",
       "      <td>29</td>\n",
       "      <td>29</td>\n",
       "      <td>198</td>\n",
       "      <td>198</td>\n",
       "      <td>0</td>\n",
       "    </tr>\n",
       "    <tr>\n",
       "      <th>114451</th>\n",
       "      <td>567/1a1004df46b179ff42f4d645fb2dff706915b86906...</td>\n",
       "      <td>131</td>\n",
       "      <td>131</td>\n",
       "      <td>874</td>\n",
       "      <td>874</td>\n",
       "      <td>0</td>\n",
       "    </tr>\n",
       "    <tr>\n",
       "      <th>321580</th>\n",
       "      <td>228/bf08f6c11667cfe4e86a987b683b6945acb479f063...</td>\n",
       "      <td>38</td>\n",
       "      <td>38</td>\n",
       "      <td>254</td>\n",
       "      <td>254</td>\n",
       "      <td>0</td>\n",
       "    </tr>\n",
       "  </tbody>\n",
       "</table>\n",
       "</div>"
      ],
      "text/plain": [
       "                                    subDirectory_filePath  face_x  face_y  \\\n",
       "539606  1408/4f7253e6833a6f9d782e29587eddec4876aed7490...      37      37   \n",
       "321576  108/f40a5a727f960d7083b5a8ac706f6bec5af014dd82...     179     179   \n",
       "423083  1117/19feb7fb51e8768dffbc028e9540e235f828fd10c...      29      29   \n",
       "114451  567/1a1004df46b179ff42f4d645fb2dff706915b86906...     131     131   \n",
       "321580  228/bf08f6c11667cfe4e86a987b683b6945acb479f063...      38      38   \n",
       "\n",
       "        face_width  face_height  expression  \n",
       "539606         253          253           0  \n",
       "321576        1904         1904           0  \n",
       "423083         198          198           0  \n",
       "114451         874          874           0  \n",
       "321580         254          254           0  "
      ]
     },
     "execution_count": 6,
     "metadata": {},
     "output_type": "execute_result"
    }
   ],
   "source": [
    "#Sorting the table by expression for the next step\n",
    "table = table.sort_values(by=\"expression\")\n",
    "\n",
    "table.head()"
   ]
  },
  {
   "cell_type": "code",
   "execution_count": 7,
   "metadata": {},
   "outputs": [
    {
     "data": {
      "text/plain": [
       "expression\n",
       "1    246235\n",
       "0    143142\n",
       "6     28000\n",
       "2     20854\n",
       "3     17462\n",
       "dtype: int64"
      ]
     },
     "execution_count": 7,
     "metadata": {},
     "output_type": "execute_result"
    }
   ],
   "source": [
    "#Dropping emotions will small sample sizes from the dataframe and verifying it worked\n",
    "#We are left with: Neutral - 0, Happy - 1, Sad - 2, Surprise - 3, Anger - 6\n",
    "to_drop = [4, 5, 7, 8, 9, 10]\n",
    "\n",
    "for i in to_drop:\n",
    "    table.drop(table[table[\"expression\"] == i].index, inplace=True)\n",
    "\n",
    "table.value_counts(\"expression\")"
   ]
  },
  {
   "cell_type": "code",
   "execution_count": 12,
   "metadata": {},
   "outputs": [
    {
     "data": {
      "text/html": [
       "<div>\n",
       "<style scoped>\n",
       "    .dataframe tbody tr th:only-of-type {\n",
       "        vertical-align: middle;\n",
       "    }\n",
       "\n",
       "    .dataframe tbody tr th {\n",
       "        vertical-align: top;\n",
       "    }\n",
       "\n",
       "    .dataframe thead th {\n",
       "        text-align: right;\n",
       "    }\n",
       "</style>\n",
       "<table border=\"1\" class=\"dataframe\">\n",
       "  <thead>\n",
       "    <tr style=\"text-align: right;\">\n",
       "      <th></th>\n",
       "      <th>subDirectory_filePath</th>\n",
       "      <th>face_x</th>\n",
       "      <th>face_y</th>\n",
       "      <th>face_width</th>\n",
       "      <th>face_height</th>\n",
       "      <th>expression</th>\n",
       "    </tr>\n",
       "  </thead>\n",
       "  <tbody>\n",
       "    <tr>\n",
       "      <th>0</th>\n",
       "      <td>1408/4f7253e6833a6f9d782e29587eddec4876aed7490...</td>\n",
       "      <td>37</td>\n",
       "      <td>37</td>\n",
       "      <td>253</td>\n",
       "      <td>253</td>\n",
       "      <td>0</td>\n",
       "    </tr>\n",
       "    <tr>\n",
       "      <th>1</th>\n",
       "      <td>108/f40a5a727f960d7083b5a8ac706f6bec5af014dd82...</td>\n",
       "      <td>179</td>\n",
       "      <td>179</td>\n",
       "      <td>1904</td>\n",
       "      <td>1904</td>\n",
       "      <td>0</td>\n",
       "    </tr>\n",
       "    <tr>\n",
       "      <th>2</th>\n",
       "      <td>1117/19feb7fb51e8768dffbc028e9540e235f828fd10c...</td>\n",
       "      <td>29</td>\n",
       "      <td>29</td>\n",
       "      <td>198</td>\n",
       "      <td>198</td>\n",
       "      <td>0</td>\n",
       "    </tr>\n",
       "    <tr>\n",
       "      <th>3</th>\n",
       "      <td>567/1a1004df46b179ff42f4d645fb2dff706915b86906...</td>\n",
       "      <td>131</td>\n",
       "      <td>131</td>\n",
       "      <td>874</td>\n",
       "      <td>874</td>\n",
       "      <td>0</td>\n",
       "    </tr>\n",
       "    <tr>\n",
       "      <th>4</th>\n",
       "      <td>228/bf08f6c11667cfe4e86a987b683b6945acb479f063...</td>\n",
       "      <td>38</td>\n",
       "      <td>38</td>\n",
       "      <td>254</td>\n",
       "      <td>254</td>\n",
       "      <td>0</td>\n",
       "    </tr>\n",
       "  </tbody>\n",
       "</table>\n",
       "</div>"
      ],
      "text/plain": [
       "                               subDirectory_filePath  face_x  face_y  \\\n",
       "0  1408/4f7253e6833a6f9d782e29587eddec4876aed7490...      37      37   \n",
       "1  108/f40a5a727f960d7083b5a8ac706f6bec5af014dd82...     179     179   \n",
       "2  1117/19feb7fb51e8768dffbc028e9540e235f828fd10c...      29      29   \n",
       "3  567/1a1004df46b179ff42f4d645fb2dff706915b86906...     131     131   \n",
       "4  228/bf08f6c11667cfe4e86a987b683b6945acb479f063...      38      38   \n",
       "\n",
       "   face_width  face_height  expression  \n",
       "0         253          253           0  \n",
       "1        1904         1904           0  \n",
       "2         198          198           0  \n",
       "3         874          874           0  \n",
       "4         254          254           0  "
      ]
     },
     "execution_count": 12,
     "metadata": {},
     "output_type": "execute_result"
    }
   ],
   "source": [
    "#Resetting the index of the dataframe so the next cell functions properly\n",
    "table = table.reset_index(drop=True)\n",
    "\n",
    "table.head()"
   ]
  },
  {
   "cell_type": "code",
   "execution_count": 13,
   "metadata": {},
   "outputs": [
    {
     "name": "stdout",
     "output_type": "stream",
     "text": [
      "10,000 faces processed.\n",
      "20,000 faces processed.\n",
      "30,000 faces processed.\n",
      "40,000 faces processed.\n",
      "50,000 faces processed.\n",
      "60,000 faces processed.\n",
      "70,000 faces processed.\n",
      "80,000 faces processed.\n",
      "90,000 faces processed.\n",
      "100,000 faces processed.\n",
      "110,000 faces processed.\n",
      "120,000 faces processed.\n",
      "130,000 faces processed.\n",
      "140,000 faces processed.\n",
      "150,000 faces processed.\n",
      "160,000 faces processed.\n",
      "170,000 faces processed.\n",
      "180,000 faces processed.\n",
      "190,000 faces processed.\n",
      "200,000 faces processed.\n",
      "210,000 faces processed.\n",
      "220,000 faces processed.\n",
      "230,000 faces processed.\n",
      "240,000 faces processed.\n",
      "250,000 faces processed.\n",
      "260,000 faces processed.\n",
      "270,000 faces processed.\n"
     ]
    }
   ],
   "source": [
    "#Creating an empty dataframe and some variables for counting our progress\n",
    "final_document = pd.DataFrame(columns = ['face', 'expression'])\n",
    "counter = 0\n",
    "ten_thousands = 0\n",
    "\n",
    "#Establishing a loop over the entire csv document\n",
    "for i in range(0, len(table)):\n",
    "        \n",
    "    #Storing the relevant variables from the table\n",
    "    fname = table['subDirectory_filePath'][i].split('/')[1]\n",
    "    face_x = table['face_x'][i]\n",
    "    face_y = table['face_y'][i]\n",
    "    width = table['face_width'][i]\n",
    "    height = table['face_height'][i]\n",
    "    expression = table['expression'][i]\n",
    "        \n",
    "    #Reading in the image in grayscale\n",
    "    image = cv2.imread(os.path.join(base, fname), 0)\n",
    "        \n",
    "    #Face extraction, if the image does not exist it moves on\n",
    "    try:\n",
    "        face = image[face_x : face_x + width, face_y : face_y + height]\n",
    "    except:\n",
    "        continue\n",
    "        \n",
    "    #Resizing the face and normalizing the pixel values\n",
    "    resized_face = cv2.resize(face, input_size, interpolation = cv2.INTER_AREA)\n",
    "    pixels = np.asarray(resized_face) \n",
    "    norm_face = pixels.astype('float32')\n",
    "    norm_face /= 255.0\n",
    "    norm_face = norm_face.reshape((48, 48, 1))\n",
    "        \n",
    "        \n",
    "    #Adding the face and expression as a row to the dataframe\n",
    "    final_document = final_document.append({'face': norm_face, 'expression': expression}, ignore_index=True)\n",
    "    \n",
    "    #Counting our progress through the dataframe\n",
    "    counter += 1\n",
    "    if counter > 9999:\n",
    "        ten_thousands += 1\n",
    "        print(\"{}0,000 faces processed.\".format(ten_thousands))\n",
    "        counter = 0"
   ]
  },
  {
   "cell_type": "code",
   "execution_count": 14,
   "metadata": {},
   "outputs": [
    {
     "data": {
      "text/html": [
       "<div>\n",
       "<style scoped>\n",
       "    .dataframe tbody tr th:only-of-type {\n",
       "        vertical-align: middle;\n",
       "    }\n",
       "\n",
       "    .dataframe tbody tr th {\n",
       "        vertical-align: top;\n",
       "    }\n",
       "\n",
       "    .dataframe thead th {\n",
       "        text-align: right;\n",
       "    }\n",
       "</style>\n",
       "<table border=\"1\" class=\"dataframe\">\n",
       "  <thead>\n",
       "    <tr style=\"text-align: right;\">\n",
       "      <th></th>\n",
       "      <th>face</th>\n",
       "      <th>expression</th>\n",
       "    </tr>\n",
       "  </thead>\n",
       "  <tbody>\n",
       "    <tr>\n",
       "      <th>0</th>\n",
       "      <td>[[[0.5137255], [0.5058824], [0.50980395], [0.4...</td>\n",
       "      <td>0</td>\n",
       "    </tr>\n",
       "    <tr>\n",
       "      <th>1</th>\n",
       "      <td>[[[0.16078432], [0.15294118], [0.14117648], [0...</td>\n",
       "      <td>0</td>\n",
       "    </tr>\n",
       "    <tr>\n",
       "      <th>2</th>\n",
       "      <td>[[[0.52156866], [0.56078434], [0.53333336], [0...</td>\n",
       "      <td>0</td>\n",
       "    </tr>\n",
       "    <tr>\n",
       "      <th>3</th>\n",
       "      <td>[[[0.02745098], [0.02745098], [0.02745098], [0...</td>\n",
       "      <td>0</td>\n",
       "    </tr>\n",
       "    <tr>\n",
       "      <th>4</th>\n",
       "      <td>[[[0.7176471], [0.7176471], [0.7176471], [0.71...</td>\n",
       "      <td>0</td>\n",
       "    </tr>\n",
       "  </tbody>\n",
       "</table>\n",
       "</div>"
      ],
      "text/plain": [
       "                                                face expression\n",
       "0  [[[0.5137255], [0.5058824], [0.50980395], [0.4...          0\n",
       "1  [[[0.16078432], [0.15294118], [0.14117648], [0...          0\n",
       "2  [[[0.52156866], [0.56078434], [0.53333336], [0...          0\n",
       "3  [[[0.02745098], [0.02745098], [0.02745098], [0...          0\n",
       "4  [[[0.7176471], [0.7176471], [0.7176471], [0.71...          0"
      ]
     },
     "execution_count": 14,
     "metadata": {},
     "output_type": "execute_result"
    }
   ],
   "source": [
    "final_document.head()"
   ]
  },
  {
   "cell_type": "code",
   "execution_count": 15,
   "metadata": {},
   "outputs": [],
   "source": [
    "#Grouping the final dataframe by expression (probably redundant)\n",
    "final_document = final_document.groupby(\"expression\")\n",
    "\n",
    "#Creating five new dataframes (one for each expression)\n",
    "df_neutral = final_document.get_group(0)\n",
    "df_happy = final_document.get_group(1)\n",
    "df_sad = final_document.get_group(2)\n",
    "df_surprise = final_document.get_group(3)\n",
    "df_anger = final_document.get_group(6)"
   ]
  },
  {
   "cell_type": "code",
   "execution_count": 16,
   "metadata": {},
   "outputs": [],
   "source": [
    "#Surprise was the shortest of the five dataframes, so its length determines the max length\n",
    "max_len = len(df_surprise)\n",
    "train_len = int(max_len * 0.7)\n",
    "test_len = int(max_len * 0.85)\n",
    "\n",
    "#Sampling from the other four emotions so we are left with five dataframes of equal length\n",
    "neutral_sample = df_neutral.sample(max_len)\n",
    "happy_sample = df_happy.sample(max_len)\n",
    "sad_sample = df_sad.sample(max_len)\n",
    "anger_sample = df_anger.sample(max_len)"
   ]
  },
  {
   "cell_type": "code",
   "execution_count": 17,
   "metadata": {},
   "outputs": [],
   "source": [
    "#Creating the training dataframe using the variables defined in the previous cell\n",
    "train_df = pd.concat([neutral_sample[:train_len],\n",
    "                     happy_sample[:train_len],\n",
    "                     sad_sample[:train_len],\n",
    "                     anger_sample[:train_len],\n",
    "                     df_surprise[:train_len]])\n",
    "\n",
    "#Shuffling the new dataframe\n",
    "train_df = train_df.sample(frac=1).reset_index(drop=True)\n",
    "\n",
    "#This process is repeated twice for the test and validation dataframes\n",
    "test_df = pd.concat([neutral_sample[train_len:test_len],\n",
    "                     happy_sample[train_len:test_len],\n",
    "                     sad_sample[train_len:test_len],\n",
    "                     anger_sample[train_len:test_len],\n",
    "                     df_surprise[train_len:test_len]])\n",
    "\n",
    "test_df = test_df.sample(frac=1).reset_index(drop=True)\n",
    "\n",
    "valid_df = pd.concat([neutral_sample[test_len:],\n",
    "                     happy_sample[test_len:],\n",
    "                     sad_sample[test_len:],\n",
    "                     anger_sample[test_len:],\n",
    "                     df_surprise[test_len:]])\n",
    "\n",
    "valid_df = valid_df.sample(frac=1).reset_index(drop=True)"
   ]
  },
  {
   "cell_type": "code",
   "execution_count": 18,
   "metadata": {},
   "outputs": [
    {
     "name": "stdout",
     "output_type": "stream",
     "text": [
      "36780\n",
      "7880\n",
      "7885\n"
     ]
    }
   ],
   "source": [
    "#Verifying that our dataframes are the correct length\n",
    "print(len(train_df))\n",
    "print(len(test_df))\n",
    "print(len(valid_df))"
   ]
  },
  {
   "cell_type": "code",
   "execution_count": 44,
   "metadata": {},
   "outputs": [],
   "source": [
    "#Small helper function that creates an empty numpy array of the correct shape and fills it with faces from the dataframe\n",
    "def array_maker(dataframe):\n",
    "    length = len(dataframe)\n",
    "    array = np.empty((length, 48, 48, 1))\n",
    "    for i in range(length):\n",
    "        array[i] = np.asarray(dataframe['face'][i])\n",
    "        \n",
    "    return array    "
   ]
  },
  {
   "cell_type": "code",
   "execution_count": 49,
   "metadata": {},
   "outputs": [],
   "source": [
    "#Running our function on the dataframes to create numpy arrays\n",
    "train_x = array_maker(train_df)\n",
    "test_x = array_maker(test_df)\n",
    "valid_x = array_maker(valid_df)"
   ]
  },
  {
   "cell_type": "code",
   "execution_count": 58,
   "metadata": {},
   "outputs": [],
   "source": [
    "#Creating numpy arrays from the expression column of the dataframes\n",
    "#Note that at this point, none of the numpy arrays should be shuffled because\n",
    "#They are no longer tethered to their other half\n",
    "train_y = np.array(train_df['expression']).astype(int)\n",
    "test_y = np.array(test_df['expression']).astype(int)\n",
    "valid_y = np.array(valid_df['expression']).astype(int)"
   ]
  },
  {
   "cell_type": "code",
   "execution_count": 63,
   "metadata": {},
   "outputs": [],
   "source": [
    "#Helper function that reassigns anger the value 4\n",
    "#Interesting note: the model would error out if anger had the value 6 because\n",
    "#That fell outside the expected range of 5 classes\n",
    "def remapper(array):\n",
    "    length = len(array)\n",
    "    for i in range(length):\n",
    "        if array[i] == 6:\n",
    "            array[i] = 4\n",
    "            \n",
    "    return array        "
   ]
  },
  {
   "cell_type": "code",
   "execution_count": 66,
   "metadata": {},
   "outputs": [],
   "source": [
    "#Running our function on all three numpy arrays, changing anger from 6 to 4\n",
    "final_train_y = remapper(train_y)\n",
    "final_test_y = remapper(test_y)\n",
    "final_valid_y = remapper(valid_y)"
   ]
  },
  {
   "cell_type": "code",
   "execution_count": 65,
   "metadata": {},
   "outputs": [
    {
     "data": {
      "text/plain": [
       "{0: 7356, 1: 7356, 2: 7356, 3: 7356, 4: 7356}"
      ]
     },
     "execution_count": 65,
     "metadata": {},
     "output_type": "execute_result"
    }
   ],
   "source": [
    "#Double checking our y arrays are the correct length and properly balanced\n",
    "unique, counts = np.unique(experiment_train_y, return_counts=True)\n",
    "dict(zip(unique, counts))"
   ]
  },
  {
   "cell_type": "code",
   "execution_count": 26,
   "metadata": {},
   "outputs": [],
   "source": [
    "#Defining the model\n",
    "import tensorflow as tf\n",
    "import tensorflow.keras as keras\n",
    "from keras.models import Sequential, model_from_json\n",
    "from keras.layers import Conv2D, MaxPool2D, Dense, Flatten, Dropout, BatchNormalization, Activation\n",
    "\n",
    "classes = 5\n",
    "num_features = 64\n",
    "\n",
    "model = Sequential()\n",
    "\n",
    "#Defining the layers\n",
    "model.add(Conv2D(num_features, kernel_size=(3, 3), input_shape=(48, 48, 1)))\n",
    "model.add(BatchNormalization())\n",
    "model.add(Activation(activation='relu'))\n",
    "model.add(Conv2D(num_features, kernel_size=(3, 3)))\n",
    "model.add(BatchNormalization())\n",
    "model.add(Activation(activation='relu'))\n",
    "model.add(Dropout(0.5))\n",
    "model.add(Dense(1024, activation='relu'))\n",
    "model.add(Dropout(0.2))\n",
    "\n",
    "model.add(Dense(classes, activation='softmax'))"
   ]
  },
  {
   "cell_type": "code",
   "execution_count": 67,
   "metadata": {},
   "outputs": [
    {
     "name": "stdout",
     "output_type": "stream",
     "text": [
      "Epoch 1/5\n",
      "1150/1150 - 826s - loss: 1.0874 - accuracy: 0.5604 - val_loss: 1.0365 - val_accuracy: 0.6315\n",
      "Epoch 2/5\n",
      "1150/1150 - 815s - loss: 0.7225 - accuracy: 0.7218 - val_loss: 0.9155 - val_accuracy: 0.6548\n",
      "Epoch 3/5\n",
      "1150/1150 - 811s - loss: 0.6146 - accuracy: 0.7667 - val_loss: 0.6396 - val_accuracy: 0.7538\n",
      "Epoch 4/5\n",
      "1150/1150 - 813s - loss: 0.5501 - accuracy: 0.7884 - val_loss: 0.7603 - val_accuracy: 0.7106\n",
      "Epoch 5/5\n",
      "1150/1150 - 812s - loss: 0.5096 - accuracy: 0.8060 - val_loss: 0.5600 - val_accuracy: 0.7871\n"
     ]
    }
   ],
   "source": [
    "#Compiling the model and running it for a few epochs\n",
    "#Note the validation accuracy was already decent with no data augmentation\n",
    "#Also note the time to train: roughly 14 minutes per epoch. A bit time-consuming to train in this environment\n",
    "model.compile(optimizer='adam', loss='sparse_categorical_crossentropy', metrics=['accuracy'])\n",
    "\n",
    "history = model.fit(x=train_x, y=final_train_y, epochs=5, validation_data=(valid_x, final_valid_y), verbose=2)"
   ]
  }
 ],
 "metadata": {
  "kernelspec": {
   "display_name": "Python 3",
   "language": "python",
   "name": "python3"
  },
  "language_info": {
   "codemirror_mode": {
    "name": "ipython",
    "version": 3
   },
   "file_extension": ".py",
   "mimetype": "text/x-python",
   "name": "python",
   "nbconvert_exporter": "python",
   "pygments_lexer": "ipython3",
   "version": "3.7.3"
  }
 },
 "nbformat": 4,
 "nbformat_minor": 2
}
